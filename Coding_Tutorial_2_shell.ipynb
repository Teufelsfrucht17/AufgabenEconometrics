{
 "cells": [
  {
   "cell_type": "code",
   "execution_count": 1,
   "metadata": {
    "ExecuteTime": {
     "end_time": "2025-10-10T21:09:21.202308Z",
     "start_time": "2025-10-10T21:09:21.199658Z"
    }
   },
   "outputs": [],
   "source": [
    "#import sys\n",
    "#import subprocess\n",
    "\n",
    "#subprocess.check_call([sys.executable, \"-m\", \"pip\", \"install\", \"pandas\", \"numpy\", \"statsmodels\", \"matplotlib\", \"scipy\", \"openpyxl\"])"
   ]
  },
  {
   "cell_type": "code",
   "execution_count": 2,
   "metadata": {
    "ExecuteTime": {
     "end_time": "2025-10-10T21:09:46.973092Z",
     "start_time": "2025-10-10T21:09:27.303498Z"
    }
   },
   "outputs": [],
   "source": [
    "import pandas as pd\n",
    "import numpy as np\n",
    "import statsmodels.api as sm\n",
    "from statsmodels.discrete.discrete_model import Probit\n",
    "import matplotlib.pyplot as plt\n",
    "import scipy.stats as stats\n"
   ]
  },
  {
   "cell_type": "markdown",
   "metadata": {},
   "source": [
    "# Data Preparation"
   ]
  },
  {
   "cell_type": "markdown",
   "metadata": {},
   "source": [
    "1) Load the cleaning function we created last time\n",
    "2) Use the function to prepare the SPX and NVDA data"
   ]
  },
  {
   "cell_type": "code",
   "execution_count": 3,
   "metadata": {
    "ExecuteTime": {
     "end_time": "2025-10-10T21:10:08.419204Z",
     "start_time": "2025-10-10T21:10:08.415823Z"
    }
   },
   "outputs": [],
   "source": [
    "# you can use this cleaning function we created last time\n",
    "def data_cleaning(benchm, asset):\n",
    "\n",
    "    benchm[\"Date\"] = pd.to_datetime(benchm[\"Date\"])\n",
    "    benchm = benchm.sort_values(by='Date', ascending=True) \n",
    "\n",
    "    asset[\"Date\"] = pd.to_datetime(asset[\"Date\"])\n",
    "    asset = asset.sort_values(by='Date', ascending=True) \n",
    "\n",
    "    comb = benchm.merge(asset,on=\"Date\", how=\"left\")\n",
    "\n",
    "    comb['return_benchmark'] = comb.iloc[:, 1] / comb.iloc[:, 1].shift(1)-1\n",
    "    comb['return_asset'] = comb.iloc[:, 2] / comb.iloc[:, 2].shift(1)-1\n",
    "    #comb['logreturn_benchmark'] = np.log(comb.iloc[:, 1] / comb.iloc[:, 1].shift(1))\n",
    "    #comb['logreturn_asset'] = np.log(comb.iloc[:, 2] / comb.iloc[:, 2].shift(1))\n",
    "    comb = comb.dropna()\n",
    "\n",
    "    return comb"
   ]
  },
  {
   "cell_type": "code",
   "execution_count": null,
   "metadata": {},
   "outputs": [],
   "source": [
    "spx_raw = pd.read_excel('SPX.xlsx')\n",
    "nvda_raw = pd.read_excel('NVDA.xlsx')\n",
    "\n",
    "data = data_cleaning(spx_raw, nvda_raw)\n",
    "\n",
    "# make column labels explicit for clarity\n",
    "data = data.rename(columns={\n",
    "    data.columns[1]: 'SPX',\n",
    "    data.columns[2]: 'NVDA',\n",
    "    'return_benchmark': 'SPX_return',\n",
    "    'return_asset': 'NVDA_return'\n",
    "})\n",
    "\n",
    "data.head()\n"
   ]
  },
  {
   "cell_type": "markdown",
   "metadata": {},
   "source": [
    "3) Load the Fama-French 5-factor (FF5) time-series data\n",
    "4) Format the dates to datetime format\n",
    "5) Merge the SPX/NVDA data and the FF5 data using the SPX/NVDA dataframe as the leading dataframe\n",
    "6) Compute excess returns for NVDA by subtracting the risk-free rate (column \"RF\" in FF5) from simple NVDA returns"
   ]
  },
  {
   "cell_type": "code",
   "execution_count": 20,
   "metadata": {
    "ExecuteTime": {
     "end_time": "2025-10-11T08:24:41.475150Z",
     "start_time": "2025-10-11T08:24:41.015625Z"
    }
   },
   "outputs": [
    {
     "name": "stdout",
     "output_type": "stream",
     "text": [
      "        Date  Mkt-RF   SMB   HML   RMW   CMA    RF\n",
      "0 1963-07-01   -0.67  0.00 -0.34 -0.01  0.16  0.01\n",
      "1 1963-07-02    0.79 -0.26  0.26 -0.07 -0.20  0.01\n",
      "2 1963-07-03    0.63 -0.17 -0.09  0.18 -0.34  0.01\n",
      "3 1963-07-05    0.40  0.08 -0.27  0.09 -0.34  0.01\n",
      "4 1963-07-08   -0.63  0.04 -0.18 -0.29  0.14  0.01\n",
      "        Date      SPX    NVDA  return_benchmark  return_asset\n",
      "1 2023-01-04  3852.97  14.749          0.007539      0.030318\n",
      "2 2023-01-05  3808.10  14.265         -0.011646     -0.032816\n",
      "3 2023-01-06  3895.08  14.859          0.022841      0.041640\n",
      "4 2023-01-09  3892.09  15.628         -0.000768      0.051753\n",
      "5 2023-01-10  3919.25  15.909          0.006978      0.017981\n"
     ]
    }
   ],
   "source": [
    "FF5 = pd.read_excel('F-F_Research_Data_5_Factors_2x3_daily.xlsx')\n",
    "FF5['Date'] = pd.to_datetime(FF5['Date'], format='%Y%m%d')\n",
    "\n",
    "factor_cols = ['Mkt-RF', 'SMB', 'HML', 'RMW', 'CMA', 'RF']\n",
    "FF5[factor_cols] = FF5[factor_cols].apply(lambda col: pd.to_numeric(col, errors='coerce')) / 100\n",
    "\n",
    "data = data.merge(FF5, how='left', on='Date')\n",
    "data = data.dropna(subset=['NVDA_return'] + factor_cols).reset_index(drop=True)\n",
    "\n",
    "data['excess_ret_asset'] = data['NVDA_return'] - data['RF']\n",
    "\n",
    "data[['Date', 'NVDA_return', 'RF', 'excess_ret_asset']].head()\n"
   ]
  },
  {
   "cell_type": "markdown",
   "metadata": {},
   "source": [
    "# Multivariate Regression"
   ]
  },
  {
   "cell_type": "markdown",
   "metadata": {},
   "source": [
    "1) Regress NVDA excess returns on a constant and all 5 Fama-French factors (\"Mkt-RF\", \"SMB\", \"HML\", \"RMW\", \"CMA\")"
   ]
  },
  {
   "cell_type": "code",
   "execution_count": 26,
   "metadata": {
    "ExecuteTime": {
     "end_time": "2025-10-11T08:28:35.328307Z",
     "start_time": "2025-10-11T08:28:35.311190Z"
    }
   },
   "outputs": [
    {
     "data": {
      "text/html": [
       "<table class=\"simpletable\">\n",
       "<caption>OLS Regression Results</caption>\n",
       "<tr>\n",
       "  <th>Dep. Variable:</th>    <td>excess_ret_asset</td> <th>  R-squared:         </th> <td>   0.534</td> \n",
       "</tr>\n",
       "<tr>\n",
       "  <th>Model:</th>                   <td>OLS</td>       <th>  Adj. R-squared:    </th> <td>   0.531</td> \n",
       "</tr>\n",
       "<tr>\n",
       "  <th>Method:</th>             <td>Least Squares</td>  <th>  F-statistic:       </th> <td>   146.7</td> \n",
       "</tr>\n",
       "<tr>\n",
       "  <th>Date:</th>             <td>Sat, 11 Oct 2025</td> <th>  Prob (F-statistic):</th> <td>1.40e-103</td>\n",
       "</tr>\n",
       "<tr>\n",
       "  <th>Time:</th>                 <td>10:28:35</td>     <th>  Log-Likelihood:    </th> <td>  1531.7</td> \n",
       "</tr>\n",
       "<tr>\n",
       "  <th>No. Observations:</th>      <td>   645</td>      <th>  AIC:               </th> <td>  -3051.</td> \n",
       "</tr>\n",
       "<tr>\n",
       "  <th>Df Residuals:</th>          <td>   639</td>      <th>  BIC:               </th> <td>  -3025.</td> \n",
       "</tr>\n",
       "<tr>\n",
       "  <th>Df Model:</th>              <td>     5</td>      <th>                     </th>     <td> </td>    \n",
       "</tr>\n",
       "<tr>\n",
       "  <th>Covariance Type:</th>      <td>nonrobust</td>    <th>                     </th>     <td> </td>    \n",
       "</tr>\n",
       "</table>\n",
       "<table class=\"simpletable\">\n",
       "<tr>\n",
       "     <td></td>       <th>coef</th>     <th>std err</th>      <th>t</th>      <th>P>|t|</th>  <th>[0.025</th>    <th>0.975]</th>  \n",
       "</tr>\n",
       "<tr>\n",
       "  <th>const</th>  <td>   -0.0174</td> <td>    0.001</td> <td>  -19.431</td> <td> 0.000</td> <td>   -0.019</td> <td>   -0.016</td>\n",
       "</tr>\n",
       "<tr>\n",
       "  <th>Mkt-RF</th> <td>    0.0203</td> <td>    0.001</td> <td>   20.766</td> <td> 0.000</td> <td>    0.018</td> <td>    0.022</td>\n",
       "</tr>\n",
       "<tr>\n",
       "  <th>SMB</th>    <td>   -0.0051</td> <td>    0.002</td> <td>   -3.334</td> <td> 0.001</td> <td>   -0.008</td> <td>   -0.002</td>\n",
       "</tr>\n",
       "<tr>\n",
       "  <th>HML</th>    <td>   -0.0137</td> <td>    0.001</td> <td>   -9.209</td> <td> 0.000</td> <td>   -0.017</td> <td>   -0.011</td>\n",
       "</tr>\n",
       "<tr>\n",
       "  <th>RMW</th>    <td>    0.0052</td> <td>    0.002</td> <td>    2.529</td> <td> 0.012</td> <td>    0.001</td> <td>    0.009</td>\n",
       "</tr>\n",
       "<tr>\n",
       "  <th>CMA</th>    <td>    0.0032</td> <td>    0.002</td> <td>    1.639</td> <td> 0.102</td> <td>   -0.001</td> <td>    0.007</td>\n",
       "</tr>\n",
       "</table>\n",
       "<table class=\"simpletable\">\n",
       "<tr>\n",
       "  <th>Omnibus:</th>       <td>273.012</td> <th>  Durbin-Watson:     </th> <td>   2.124</td>\n",
       "</tr>\n",
       "<tr>\n",
       "  <th>Prob(Omnibus):</th> <td> 0.000</td>  <th>  Jarque-Bera (JB):  </th> <td>4179.119</td>\n",
       "</tr>\n",
       "<tr>\n",
       "  <th>Skew:</th>          <td> 1.464</td>  <th>  Prob(JB):          </th> <td>    0.00</td>\n",
       "</tr>\n",
       "<tr>\n",
       "  <th>Kurtosis:</th>      <td>15.122</td>  <th>  Cond. No.          </th> <td>    2.96</td>\n",
       "</tr>\n",
       "</table><br/><br/>Notes:<br/>[1] Standard Errors assume that the covariance matrix of the errors is correctly specified."
      ],
      "text/latex": [
       "\\begin{center}\n",
       "\\begin{tabular}{lclc}\n",
       "\\toprule\n",
       "\\textbf{Dep. Variable:}    & excess\\_ret\\_asset & \\textbf{  R-squared:         } &     0.534   \\\\\n",
       "\\textbf{Model:}            &        OLS         & \\textbf{  Adj. R-squared:    } &     0.531   \\\\\n",
       "\\textbf{Method:}           &   Least Squares    & \\textbf{  F-statistic:       } &     146.7   \\\\\n",
       "\\textbf{Date:}             &  Sat, 11 Oct 2025  & \\textbf{  Prob (F-statistic):} & 1.40e-103   \\\\\n",
       "\\textbf{Time:}             &      10:28:35      & \\textbf{  Log-Likelihood:    } &    1531.7   \\\\\n",
       "\\textbf{No. Observations:} &          645       & \\textbf{  AIC:               } &    -3051.   \\\\\n",
       "\\textbf{Df Residuals:}     &          639       & \\textbf{  BIC:               } &    -3025.   \\\\\n",
       "\\textbf{Df Model:}         &            5       & \\textbf{                     } &             \\\\\n",
       "\\textbf{Covariance Type:}  &     nonrobust      & \\textbf{                     } &             \\\\\n",
       "\\bottomrule\n",
       "\\end{tabular}\n",
       "\\begin{tabular}{lcccccc}\n",
       "                & \\textbf{coef} & \\textbf{std err} & \\textbf{t} & \\textbf{P$> |$t$|$} & \\textbf{[0.025} & \\textbf{0.975]}  \\\\\n",
       "\\midrule\n",
       "\\textbf{const}  &      -0.0174  &        0.001     &   -19.431  &         0.000        &       -0.019    &       -0.016     \\\\\n",
       "\\textbf{Mkt-RF} &       0.0203  &        0.001     &    20.766  &         0.000        &        0.018    &        0.022     \\\\\n",
       "\\textbf{SMB}    &      -0.0051  &        0.002     &    -3.334  &         0.001        &       -0.008    &       -0.002     \\\\\n",
       "\\textbf{HML}    &      -0.0137  &        0.001     &    -9.209  &         0.000        &       -0.017    &       -0.011     \\\\\n",
       "\\textbf{RMW}    &       0.0052  &        0.002     &     2.529  &         0.012        &        0.001    &        0.009     \\\\\n",
       "\\textbf{CMA}    &       0.0032  &        0.002     &     1.639  &         0.102        &       -0.001    &        0.007     \\\\\n",
       "\\bottomrule\n",
       "\\end{tabular}\n",
       "\\begin{tabular}{lclc}\n",
       "\\textbf{Omnibus:}       & 273.012 & \\textbf{  Durbin-Watson:     } &    2.124  \\\\\n",
       "\\textbf{Prob(Omnibus):} &   0.000 & \\textbf{  Jarque-Bera (JB):  } & 4179.119  \\\\\n",
       "\\textbf{Skew:}          &   1.464 & \\textbf{  Prob(JB):          } &     0.00  \\\\\n",
       "\\textbf{Kurtosis:}      &  15.122 & \\textbf{  Cond. No.          } &     2.96  \\\\\n",
       "\\bottomrule\n",
       "\\end{tabular}\n",
       "%\\caption{OLS Regression Results}\n",
       "\\end{center}\n",
       "\n",
       "Notes: \\newline\n",
       " [1] Standard Errors assume that the covariance matrix of the errors is correctly specified."
      ],
      "text/plain": [
       "<class 'statsmodels.iolib.summary.Summary'>\n",
       "\"\"\"\n",
       "                            OLS Regression Results                            \n",
       "==============================================================================\n",
       "Dep. Variable:       excess_ret_asset   R-squared:                       0.534\n",
       "Model:                            OLS   Adj. R-squared:                  0.531\n",
       "Method:                 Least Squares   F-statistic:                     146.7\n",
       "Date:                Sat, 11 Oct 2025   Prob (F-statistic):          1.40e-103\n",
       "Time:                        10:28:35   Log-Likelihood:                 1531.7\n",
       "No. Observations:                 645   AIC:                            -3051.\n",
       "Df Residuals:                     639   BIC:                            -3025.\n",
       "Df Model:                           5                                         \n",
       "Covariance Type:            nonrobust                                         \n",
       "==============================================================================\n",
       "                 coef    std err          t      P>|t|      [0.025      0.975]\n",
       "------------------------------------------------------------------------------\n",
       "const         -0.0174      0.001    -19.431      0.000      -0.019      -0.016\n",
       "Mkt-RF         0.0203      0.001     20.766      0.000       0.018       0.022\n",
       "SMB           -0.0051      0.002     -3.334      0.001      -0.008      -0.002\n",
       "HML           -0.0137      0.001     -9.209      0.000      -0.017      -0.011\n",
       "RMW            0.0052      0.002      2.529      0.012       0.001       0.009\n",
       "CMA            0.0032      0.002      1.639      0.102      -0.001       0.007\n",
       "==============================================================================\n",
       "Omnibus:                      273.012   Durbin-Watson:                   2.124\n",
       "Prob(Omnibus):                  0.000   Jarque-Bera (JB):             4179.119\n",
       "Skew:                           1.464   Prob(JB):                         0.00\n",
       "Kurtosis:                      15.122   Cond. No.                         2.96\n",
       "==============================================================================\n",
       "\n",
       "Notes:\n",
       "[1] Standard Errors assume that the covariance matrix of the errors is correctly specified.\n",
       "\"\"\""
      ]
     },
     "execution_count": 26,
     "metadata": {},
     "output_type": "execute_result"
    }
   ],
   "source": [
    "Y = data['excess_ret_asset']\n",
    "X = data[['Mkt-RF', 'SMB', 'HML', 'RMW', 'CMA']]\n",
    "\n",
    "X = sm.add_constant(X)\n",
    "model = sm.OLS(Y, X).fit()\n",
    "model.summary()\n"
   ]
  },
  {
   "cell_type": "markdown",
   "metadata": {},
   "source": [
    "Deutung der Tabelle:\n",
    "\n",
    "Also schaue in der coffezienze tabelle, was kleiner und das will ich mir anschauen alsi umsokleiner P>T dings umso wischtiger ist das. Z.B. CMA ist zu hoch deswegen sit das scheiß egal weil es 0.102 ist das heiußt das einfach zu hoch\n",
    "\n",
    "Dann interepretation was mache ich wenn als bsp mein Market RF wenn das um 1 hoch geht dann geht NVDA um 0.0203 hoch also um den wert der da angegeben wird bei coef. bzw wenn iche s weiter eherhöe dann gehts weiter hoch.\n",
    "\n",
    "Prp: durch slides gehen und checken wo die alle zu finden sind in der tabelle so die connections machen. Glaube da wird dann alles abgefragt also z.B. Skew was das was mcht das etc was R2 und so also die tabelle verstehen und wissen wo alles steht\n",
    "\n",
    "\n",
    "\n"
   ]
  },
  {
   "cell_type": "markdown",
   "metadata": {},
   "source": [
    "Hier noch die extra scahen"
   ]
  },
  {
   "cell_type": "code",
   "execution_count": null,
   "metadata": {},
   "outputs": [],
   "source": [
    "factor_loadings = pd.DataFrame({\n",
    "    'coef': model.params,\n",
    "    't_stat': model.tvalues,\n",
    "    'p_value': model.pvalues\n",
    "})\n",
    "factor_loadings\n"
   ]
  },
  {
   "cell_type": "markdown",
   "metadata": {},
   "source": [
    "# FED Probit model"
   ]
  },
  {
   "cell_type": "markdown",
   "metadata": {},
   "source": [
    "1) Load the dataset containing the difference between the 3-month and 10-year Treasury yield (t10y3m)\n",
    "2) Ensure the dates are in datetime format and create a new column that contains the first date of the month to use it as a month indicator\n",
    "3) Group data by that month indicator taking the monthly mean of the yield spread"
   ]
  },
  {
   "cell_type": "code",
   "execution_count": 32,
   "metadata": {
    "ExecuteTime": {
     "end_time": "2025-10-11T08:48:55.098843Z",
     "start_time": "2025-10-11T08:48:54.960135Z"
    }
   },
   "outputs": [
    {
     "data": {
      "text/html": [
       "<div>\n",
       "<style scoped>\n",
       "    .dataframe tbody tr th:only-of-type {\n",
       "        vertical-align: middle;\n",
       "    }\n",
       "\n",
       "    .dataframe tbody tr th {\n",
       "        vertical-align: top;\n",
       "    }\n",
       "\n",
       "    .dataframe thead th {\n",
       "        text-align: right;\n",
       "    }\n",
       "</style>\n",
       "<table border=\"1\" class=\"dataframe\">\n",
       "  <thead>\n",
       "    <tr style=\"text-align: right;\">\n",
       "      <th></th>\n",
       "      <th>month</th>\n",
       "      <th>T10Y3M</th>\n",
       "    </tr>\n",
       "  </thead>\n",
       "  <tbody>\n",
       "    <tr>\n",
       "      <th>0</th>\n",
       "      <td>1982-01-01</td>\n",
       "      <td>1.676000</td>\n",
       "    </tr>\n",
       "    <tr>\n",
       "      <th>1</th>\n",
       "      <td>1982-02-01</td>\n",
       "      <td>0.146111</td>\n",
       "    </tr>\n",
       "    <tr>\n",
       "      <th>2</th>\n",
       "      <td>1982-03-01</td>\n",
       "      <td>0.546522</td>\n",
       "    </tr>\n",
       "    <tr>\n",
       "      <th>3</th>\n",
       "      <td>1982-04-01</td>\n",
       "      <td>0.527143</td>\n",
       "    </tr>\n",
       "    <tr>\n",
       "      <th>4</th>\n",
       "      <td>1982-05-01</td>\n",
       "      <td>0.908500</td>\n",
       "    </tr>\n",
       "    <tr>\n",
       "      <th>...</th>\n",
       "      <td>...</td>\n",
       "      <td>...</td>\n",
       "    </tr>\n",
       "    <tr>\n",
       "      <th>521</th>\n",
       "      <td>2025-06-01</td>\n",
       "      <td>-0.037500</td>\n",
       "    </tr>\n",
       "    <tr>\n",
       "      <th>522</th>\n",
       "      <td>2025-07-01</td>\n",
       "      <td>-0.020455</td>\n",
       "    </tr>\n",
       "    <tr>\n",
       "      <th>523</th>\n",
       "      <td>2025-08-01</td>\n",
       "      <td>-0.040000</td>\n",
       "    </tr>\n",
       "    <tr>\n",
       "      <th>524</th>\n",
       "      <td>2025-09-01</td>\n",
       "      <td>0.054762</td>\n",
       "    </tr>\n",
       "    <tr>\n",
       "      <th>525</th>\n",
       "      <td>2025-10-01</td>\n",
       "      <td>0.095000</td>\n",
       "    </tr>\n",
       "  </tbody>\n",
       "</table>\n",
       "<p>526 rows × 2 columns</p>\n",
       "</div>"
      ],
      "text/plain": [
       "         month    T10Y3M\n",
       "0   1982-01-01  1.676000\n",
       "1   1982-02-01  0.146111\n",
       "2   1982-03-01  0.546522\n",
       "3   1982-04-01  0.527143\n",
       "4   1982-05-01  0.908500\n",
       "..         ...       ...\n",
       "521 2025-06-01 -0.037500\n",
       "522 2025-07-01 -0.020455\n",
       "523 2025-08-01 -0.040000\n",
       "524 2025-09-01  0.054762\n",
       "525 2025-10-01  0.095000\n",
       "\n",
       "[526 rows x 2 columns]"
      ]
     },
     "execution_count": 32,
     "metadata": {},
     "output_type": "execute_result"
    }
   ],
   "source": [
    "t10y3m = pd.read_excel(\"T10Y3M.xlsx\")\n",
    "t10y3m[\"observation_date\"] = pd.to_datetime(t10y3m[\"observation_date\"])\n",
    "t10y3m[\"month\"] = t10y3m[\"observation_date\"].dt.to_period(\"M\").dt.to_timestamp()\n",
    "t10y3m = t10y3m.groupby(\"month\",as_index=False)[\"T10Y3M\"].mean()\n",
    "t10y3m"
   ]
  },
  {
   "cell_type": "markdown",
   "metadata": {},
   "source": [
    "4) Load the dataset with monthly recession indicators and ensure the date column is in datetime format"
   ]
  },
  {
   "cell_type": "code",
   "execution_count": 37,
   "metadata": {
    "ExecuteTime": {
     "end_time": "2025-10-11T08:56:15.021230Z",
     "start_time": "2025-10-11T08:56:14.926257Z"
    }
   },
   "outputs": [],
   "source": [
    "usrce = pd.read_excel('USREC.xlsx')\n",
    "usrce['observation_date'] = pd.to_datetime(usrce['observation_date'])\n",
    "usrce['month'] = usrce['observation_date'].dt.to_period('M').dt.to_timestamp()\n",
    "usrce = usrce.groupby('month', as_index=False)['USREC'].mean()\n",
    "usrce.head()\n"
   ]
  },
  {
   "cell_type": "markdown",
   "metadata": {},
   "source": [
    "5) Merge the two dataframes using on the month indicator the yield spread as the leading dataframe\n",
    "6) Create a new column that gives the 12 months ahead recession indicator using the .shift() method\n",
    "7) Drop NaN observations"
   ]
  },
  {
   "cell_type": "code",
   "execution_count": 39,
   "metadata": {
    "ExecuteTime": {
     "end_time": "2025-10-11T08:57:13.345499Z",
     "start_time": "2025-10-11T08:57:13.331167Z"
    }
   },
   "outputs": [
    {
     "data": {
      "text/html": [
       "<div>\n",
       "<style scoped>\n",
       "    .dataframe tbody tr th:only-of-type {\n",
       "        vertical-align: middle;\n",
       "    }\n",
       "\n",
       "    .dataframe tbody tr th {\n",
       "        vertical-align: top;\n",
       "    }\n",
       "\n",
       "    .dataframe thead th {\n",
       "        text-align: right;\n",
       "    }\n",
       "</style>\n",
       "<table border=\"1\" class=\"dataframe\">\n",
       "  <thead>\n",
       "    <tr style=\"text-align: right;\">\n",
       "      <th></th>\n",
       "      <th>month</th>\n",
       "      <th>T10Y3M</th>\n",
       "      <th>USREC</th>\n",
       "    </tr>\n",
       "  </thead>\n",
       "  <tbody>\n",
       "    <tr>\n",
       "      <th>0</th>\n",
       "      <td>1982-01-01</td>\n",
       "      <td>1.676000</td>\n",
       "      <td>1.0</td>\n",
       "    </tr>\n",
       "    <tr>\n",
       "      <th>1</th>\n",
       "      <td>1982-02-01</td>\n",
       "      <td>0.146111</td>\n",
       "      <td>1.0</td>\n",
       "    </tr>\n",
       "    <tr>\n",
       "      <th>2</th>\n",
       "      <td>1982-03-01</td>\n",
       "      <td>0.546522</td>\n",
       "      <td>1.0</td>\n",
       "    </tr>\n",
       "    <tr>\n",
       "      <th>3</th>\n",
       "      <td>1982-04-01</td>\n",
       "      <td>0.527143</td>\n",
       "      <td>1.0</td>\n",
       "    </tr>\n",
       "    <tr>\n",
       "      <th>4</th>\n",
       "      <td>1982-05-01</td>\n",
       "      <td>0.908500</td>\n",
       "      <td>1.0</td>\n",
       "    </tr>\n",
       "    <tr>\n",
       "      <th>5</th>\n",
       "      <td>1982-06-01</td>\n",
       "      <td>1.220909</td>\n",
       "      <td>1.0</td>\n",
       "    </tr>\n",
       "    <tr>\n",
       "      <th>6</th>\n",
       "      <td>1982-07-01</td>\n",
       "      <td>2.082857</td>\n",
       "      <td>1.0</td>\n",
       "    </tr>\n",
       "    <tr>\n",
       "      <th>7</th>\n",
       "      <td>1982-08-01</td>\n",
       "      <td>4.057727</td>\n",
       "      <td>1.0</td>\n",
       "    </tr>\n",
       "    <tr>\n",
       "      <th>8</th>\n",
       "      <td>1982-09-01</td>\n",
       "      <td>4.146190</td>\n",
       "      <td>1.0</td>\n",
       "    </tr>\n",
       "    <tr>\n",
       "      <th>9</th>\n",
       "      <td>1982-10-01</td>\n",
       "      <td>2.939000</td>\n",
       "      <td>1.0</td>\n",
       "    </tr>\n",
       "    <tr>\n",
       "      <th>10</th>\n",
       "      <td>1982-11-01</td>\n",
       "      <td>2.204211</td>\n",
       "      <td>1.0</td>\n",
       "    </tr>\n",
       "    <tr>\n",
       "      <th>11</th>\n",
       "      <td>1982-12-01</td>\n",
       "      <td>2.337273</td>\n",
       "      <td>0.0</td>\n",
       "    </tr>\n",
       "    <tr>\n",
       "      <th>12</th>\n",
       "      <td>1983-01-01</td>\n",
       "      <td>2.340000</td>\n",
       "      <td>0.0</td>\n",
       "    </tr>\n",
       "    <tr>\n",
       "      <th>13</th>\n",
       "      <td>1983-02-01</td>\n",
       "      <td>2.330526</td>\n",
       "      <td>0.0</td>\n",
       "    </tr>\n",
       "    <tr>\n",
       "      <th>14</th>\n",
       "      <td>1983-03-01</td>\n",
       "      <td>1.846957</td>\n",
       "      <td>0.0</td>\n",
       "    </tr>\n",
       "    <tr>\n",
       "      <th>15</th>\n",
       "      <td>1983-04-01</td>\n",
       "      <td>1.886500</td>\n",
       "      <td>0.0</td>\n",
       "    </tr>\n",
       "    <tr>\n",
       "      <th>16</th>\n",
       "      <td>1983-05-01</td>\n",
       "      <td>1.884286</td>\n",
       "      <td>0.0</td>\n",
       "    </tr>\n",
       "    <tr>\n",
       "      <th>17</th>\n",
       "      <td>1983-06-01</td>\n",
       "      <td>1.709091</td>\n",
       "      <td>0.0</td>\n",
       "    </tr>\n",
       "    <tr>\n",
       "      <th>18</th>\n",
       "      <td>1983-07-01</td>\n",
       "      <td>1.927500</td>\n",
       "      <td>0.0</td>\n",
       "    </tr>\n",
       "    <tr>\n",
       "      <th>19</th>\n",
       "      <td>1983-08-01</td>\n",
       "      <td>2.106957</td>\n",
       "      <td>0.0</td>\n",
       "    </tr>\n",
       "  </tbody>\n",
       "</table>\n",
       "</div>"
      ],
      "text/plain": [
       "        month    T10Y3M  USREC\n",
       "0  1982-01-01  1.676000    1.0\n",
       "1  1982-02-01  0.146111    1.0\n",
       "2  1982-03-01  0.546522    1.0\n",
       "3  1982-04-01  0.527143    1.0\n",
       "4  1982-05-01  0.908500    1.0\n",
       "5  1982-06-01  1.220909    1.0\n",
       "6  1982-07-01  2.082857    1.0\n",
       "7  1982-08-01  4.057727    1.0\n",
       "8  1982-09-01  4.146190    1.0\n",
       "9  1982-10-01  2.939000    1.0\n",
       "10 1982-11-01  2.204211    1.0\n",
       "11 1982-12-01  2.337273    0.0\n",
       "12 1983-01-01  2.340000    0.0\n",
       "13 1983-02-01  2.330526    0.0\n",
       "14 1983-03-01  1.846957    0.0\n",
       "15 1983-04-01  1.886500    0.0\n",
       "16 1983-05-01  1.884286    0.0\n",
       "17 1983-06-01  1.709091    0.0\n",
       "18 1983-07-01  1.927500    0.0\n",
       "19 1983-08-01  2.106957    0.0"
      ]
     },
     "execution_count": 39,
     "metadata": {},
     "output_type": "execute_result"
    }
   ],
   "source": [
    "fed_rec = t10y3m.merge(usrce, how='left', on='month')\n",
    "fed_rec['USREC_12m'] = fed_rec['USREC'].shift(-12)\n",
    "fed_rec = fed_rec.dropna(subset=['USREC_12m']).reset_index(drop=True)\n",
    "fed_rec.head()\n"
   ]
  },
  {
   "cell_type": "markdown",
   "metadata": {},
   "source": [
    "8) Estimate a probit model with an intercept, the yield spread as an independent variable and 12 month ahead recession indicator as the dependent variable using data until December 2009"
   ]
  },
  {
   "cell_type": "code",
   "execution_count": null,
   "metadata": {},
   "outputs": [],
   "source": [
    "est_sample = fed_rec[fed_rec['month'] <= '2009-12-31']\n",
    "X_est = sm.add_constant(est_sample['T10Y3M'])\n",
    "y_est = est_sample['USREC_12m']\n",
    "\n",
    "probit_model = Probit(y_est, X_est).fit(disp=False)\n",
    "probit_model.summary()\n"
   ]
  },
  {
   "cell_type": "markdown",
   "metadata": {},
   "source": [
    "9) Based on this model, predict the probability of a recession for each month in the entire dataset and plot that probability over time "
   ]
  },
  {
   "cell_type": "code",
   "execution_count": null,
   "metadata": {},
   "outputs": [],
   "source": [
    "X_all = sm.add_constant(fed_rec['T10Y3M'])\n",
    "fed_rec['recession_prob'] = probit_model.predict(X_all)\n",
    "\n",
    "fig, ax = plt.subplots(figsize=(12, 4))\n",
    "ax.plot(fed_rec['month'], fed_rec['recession_prob'], label='Predicted probability')\n",
    "ax.fill_between(\n",
    "    fed_rec['month'],\n",
    "    0,\n",
    "    1,\n",
    "    where=fed_rec['USREC'] > 0.5,\n",
    "    color='red',\n",
    "    alpha=0.1,\n",
    "    label='Recession (current)'\n",
    ")\n",
    "ax.set_xlabel('Month')\n",
    "ax.set_ylabel('Probability of recession')\n",
    "ax.set_title('Predicted U.S. Recession Probability (12 Months Ahead)')\n",
    "ax.set_ylim(0, 1)\n",
    "ax.legend(loc='upper left')\n",
    "fig.tight_layout()\n"
   ]
  }
 ],
 "metadata": {
  "kernelspec": {
   "display_name": ".venv",
   "language": "python",
   "name": "python3"
  },
  "language_info": {
   "codemirror_mode": {
    "name": "ipython",
    "version": 3
   },
   "file_extension": ".py",
   "mimetype": "text/x-python",
   "name": "python",
   "nbconvert_exporter": "python",
   "pygments_lexer": "ipython3",
   "version": "3.12.11"
  }
 },
 "nbformat": 4,
 "nbformat_minor": 2
}
