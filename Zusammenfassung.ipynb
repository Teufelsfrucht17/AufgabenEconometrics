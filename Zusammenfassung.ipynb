{
 "cells": [
  {
   "metadata": {},
   "cell_type": "markdown",
   "source": "Imports",
   "id": "a1ed06e0df435452"
  },
  {
   "metadata": {
    "collapsed": true,
    "ExecuteTime": {
     "end_time": "2025-10-22T15:24:44.840063Z",
     "start_time": "2025-10-22T15:24:44.832255Z"
    }
   },
   "cell_type": "code",
   "source": [
    "import pandas as pd\n",
    "import numpy as np\n",
    "import statsmodels.api as sm\n",
    "import matplotlib.pyplot as plt\n",
    "from statsmodels.discrete.discrete_model import Probit\n",
    "import scipy.stats as stats"
   ],
   "id": "8974321d19086506",
   "outputs": [],
   "execution_count": 31
  },
  {
   "metadata": {},
   "cell_type": "markdown",
   "source": "# Data Prep",
   "id": "5cd2f0f920196de2"
  },
  {
   "metadata": {},
   "cell_type": "markdown",
   "source": [
    "1) Load the dataset for the S&P 500\n",
    "2) Format the date to datetime format\n",
    "3) Sort values by date from oldest to newest\n",
    "4) Repeat 1-3 for Nvidia\n",
    "5) Merge dataframes on the Date column using the S&P 500 as the leading dataframe\n",
    "6) create log returns\n",
    "7) Drop missing observations (NaN)"
   ],
   "id": "7dacd07c96090fac"
  },
  {
   "metadata": {
    "ExecuteTime": {
     "end_time": "2025-10-22T15:24:46.369374Z",
     "start_time": "2025-10-22T15:24:46.295052Z"
    }
   },
   "cell_type": "code",
   "source": [
    "# 1  einlesen von Daten in der Rohform\n",
    "df = pd.read_excel('SPX.xlsx')\n",
    "# 2 Date to time im Format\n",
    "df[\"Date\"] = pd.to_datetime(df['Date'], format='%Y%m%d')\n",
    "#3 Sort Values after the Date\n",
    "df = df.sort_values(\"Date\")\n",
    "#4 Same vor NVDA\n",
    "dfNV = pd.read_excel(\"NVDA.xlsx\")\n",
    "dfNV[\"Date\"] = pd.to_datetime(dfNV[\"Date\"],format='%Y%m%d')\n",
    "dfNV = dfNV.sort_values(\"Date\")\n",
    "#5 Merging Rules : df wird erhalten und die dfNV kommt dazu also SP hier leading\n",
    "df = df.merge(dfNV, how=\"left\", on=\"Date\")\n",
    "#6 Create log returns\n",
    "df[\"returnsSPX\"] = np.log(df[\"SPX\"]).diff()\n",
    "df[\"returnsNV\"] = np.log(df[\"NVDA\"]).diff()\n",
    "#7 die fehlenden werden rausgeworfen\n",
    "df = df.dropna().reset_index(drop=True)\n",
    "# zum auslesen\n",
    "df.describe()\n",
    "\n"
   ],
   "id": "ed473ee3b2ba57e1",
   "outputs": [
    {
     "data": {
      "text/plain": [
       "                                Date          SPX        NVDA  returnsSPX  \\\n",
       "count                            676   676.000000  676.000000  676.000000   \n",
       "mean   2024-05-09 09:43:40.118343168  5151.449009   90.086915    0.000809   \n",
       "min              2023-01-04 00:00:00  3808.100000   14.265000   -0.061609   \n",
       "25%              2023-09-06 18:00:00  4414.327500   44.676000   -0.003501   \n",
       "50%              2024-05-08 12:00:00  5216.135000   92.309500    0.000944   \n",
       "75%              2025-01-10 18:00:00  5837.532500  131.175000    0.005861   \n",
       "max              2025-09-15 00:00:00  6609.400000  183.160000    0.090895   \n",
       "std                              NaN   765.608040   48.060502    0.009663   \n",
       "\n",
       "        returnsNV  \n",
       "count  676.000000  \n",
       "mean     0.003705  \n",
       "min     -0.185946  \n",
       "25%     -0.013741  \n",
       "50%      0.003924  \n",
       "75%      0.021791  \n",
       "max      0.218088  \n",
       "std      0.032049  "
      ],
      "text/html": [
       "<div>\n",
       "<style scoped>\n",
       "    .dataframe tbody tr th:only-of-type {\n",
       "        vertical-align: middle;\n",
       "    }\n",
       "\n",
       "    .dataframe tbody tr th {\n",
       "        vertical-align: top;\n",
       "    }\n",
       "\n",
       "    .dataframe thead th {\n",
       "        text-align: right;\n",
       "    }\n",
       "</style>\n",
       "<table border=\"1\" class=\"dataframe\">\n",
       "  <thead>\n",
       "    <tr style=\"text-align: right;\">\n",
       "      <th></th>\n",
       "      <th>Date</th>\n",
       "      <th>SPX</th>\n",
       "      <th>NVDA</th>\n",
       "      <th>returnsSPX</th>\n",
       "      <th>returnsNV</th>\n",
       "    </tr>\n",
       "  </thead>\n",
       "  <tbody>\n",
       "    <tr>\n",
       "      <th>count</th>\n",
       "      <td>676</td>\n",
       "      <td>676.000000</td>\n",
       "      <td>676.000000</td>\n",
       "      <td>676.000000</td>\n",
       "      <td>676.000000</td>\n",
       "    </tr>\n",
       "    <tr>\n",
       "      <th>mean</th>\n",
       "      <td>2024-05-09 09:43:40.118343168</td>\n",
       "      <td>5151.449009</td>\n",
       "      <td>90.086915</td>\n",
       "      <td>0.000809</td>\n",
       "      <td>0.003705</td>\n",
       "    </tr>\n",
       "    <tr>\n",
       "      <th>min</th>\n",
       "      <td>2023-01-04 00:00:00</td>\n",
       "      <td>3808.100000</td>\n",
       "      <td>14.265000</td>\n",
       "      <td>-0.061609</td>\n",
       "      <td>-0.185946</td>\n",
       "    </tr>\n",
       "    <tr>\n",
       "      <th>25%</th>\n",
       "      <td>2023-09-06 18:00:00</td>\n",
       "      <td>4414.327500</td>\n",
       "      <td>44.676000</td>\n",
       "      <td>-0.003501</td>\n",
       "      <td>-0.013741</td>\n",
       "    </tr>\n",
       "    <tr>\n",
       "      <th>50%</th>\n",
       "      <td>2024-05-08 12:00:00</td>\n",
       "      <td>5216.135000</td>\n",
       "      <td>92.309500</td>\n",
       "      <td>0.000944</td>\n",
       "      <td>0.003924</td>\n",
       "    </tr>\n",
       "    <tr>\n",
       "      <th>75%</th>\n",
       "      <td>2025-01-10 18:00:00</td>\n",
       "      <td>5837.532500</td>\n",
       "      <td>131.175000</td>\n",
       "      <td>0.005861</td>\n",
       "      <td>0.021791</td>\n",
       "    </tr>\n",
       "    <tr>\n",
       "      <th>max</th>\n",
       "      <td>2025-09-15 00:00:00</td>\n",
       "      <td>6609.400000</td>\n",
       "      <td>183.160000</td>\n",
       "      <td>0.090895</td>\n",
       "      <td>0.218088</td>\n",
       "    </tr>\n",
       "    <tr>\n",
       "      <th>std</th>\n",
       "      <td>NaN</td>\n",
       "      <td>765.608040</td>\n",
       "      <td>48.060502</td>\n",
       "      <td>0.009663</td>\n",
       "      <td>0.032049</td>\n",
       "    </tr>\n",
       "  </tbody>\n",
       "</table>\n",
       "</div>"
      ]
     },
     "execution_count": 32,
     "metadata": {},
     "output_type": "execute_result"
    }
   ],
   "execution_count": 32
  },
  {
   "metadata": {},
   "cell_type": "markdown",
   "source": "# Meanvariance",
   "id": "8576c2895add1dc3"
  },
  {
   "metadata": {},
   "cell_type": "markdown",
   "source": [
    "1) Store means in new variables\n",
    "2) Store variance in new variables\n",
    "3) Store standard deviation in new variables\n",
    "4) Store skewness in new variables\n",
    "5) Store kurtosis in new variables"
   ],
   "id": "6419c8b9727bd048"
  },
  {
   "metadata": {
    "ExecuteTime": {
     "end_time": "2025-10-22T15:24:50.394145Z",
     "start_time": "2025-10-22T15:24:50.388539Z"
    }
   },
   "cell_type": "code",
   "source": [
    "#1\n",
    "spx_mean = df['returnsSPX'].mean()\n",
    "#2\n",
    "spx_variance = df['returnsSPX'].var()\n",
    "#3\n",
    "spx_std = df['returnsSPX'].std()\n",
    "#4\n",
    "spx_skewness = df['returnsSPX'].skew()\n",
    "#5\n",
    "spx_kurtosis = df['returnsSPX'].kurtosis()\n",
    "\n",
    "nvda_mean = df['returnsNV'].mean()\n",
    "nvda_variance = df['returnsNV'].var()\n",
    "nvda_std = df['returnsNV'].std()\n",
    "nvda_skewness = df['returnsNV'].skew()\n",
    "nvda_kurtosis = df['returnsNV'].kurtosis()\n"
   ],
   "id": "e7c87a5330baa2b7",
   "outputs": [],
   "execution_count": 33
  },
  {
   "metadata": {},
   "cell_type": "markdown",
   "source": "SPX",
   "id": "437fe504f62154d2"
  },
  {
   "metadata": {
    "ExecuteTime": {
     "end_time": "2025-10-22T14:04:20.112597Z",
     "start_time": "2025-10-22T14:04:20.109292Z"
    }
   },
   "cell_type": "code",
   "source": "print(spx_mean, spx_variance, spx_std, spx_skewness, spx_kurtosis)",
   "id": "ca8fb5c66a57febd",
   "outputs": [
    {
     "name": "stdout",
     "output_type": "stream",
     "text": [
      "0.0008094072082658398 9.338212214893735e-05 0.009663442561992974 0.3794123464805598 14.48577578706454\n"
     ]
    }
   ],
   "execution_count": 21
  },
  {
   "metadata": {},
   "cell_type": "markdown",
   "source": "NVDA",
   "id": "369f335f033278da"
  },
  {
   "metadata": {
    "ExecuteTime": {
     "end_time": "2025-10-22T14:04:21.069524Z",
     "start_time": "2025-10-22T14:04:21.067380Z"
    }
   },
   "cell_type": "code",
   "source": "print(nvda_mean,nvda_variance,nvda_std, nvda_skewness,nvda_kurtosis)",
   "id": "7d5b72ddf75a610b",
   "outputs": [
    {
     "name": "stdout",
     "output_type": "stream",
     "text": [
      "0.0037048484256013603 0.0010271198758041934 0.03204871098506449 0.4004123017185249 6.564691398616426\n"
     ]
    }
   ],
   "execution_count": 22
  },
  {
   "metadata": {},
   "cell_type": "markdown",
   "source": "# OLS Regression",
   "id": "ef7969b6a9f4357e"
  },
  {
   "metadata": {},
   "cell_type": "markdown",
   "source": [
    "1) Regress log returns of NVDA on log returns of SPX\n",
    "2) Extract and analyze the results (summary function)"
   ],
   "id": "583826fa58b05dca"
  },
  {
   "metadata": {
    "ExecuteTime": {
     "end_time": "2025-10-22T15:24:52.871082Z",
     "start_time": "2025-10-22T15:24:52.831614Z"
    }
   },
   "cell_type": "code",
   "source": [
    "# 1 retrun\n",
    "ols = sm.regression.linear_model.OLS(df[\"returnsNV\"], sm.add_constant(df['returnsSPX'])).fit()\n",
    "\n",
    "ols.summary()"
   ],
   "id": "85a9fdaf5d94097e",
   "outputs": [
    {
     "data": {
      "text/plain": [
       "<class 'statsmodels.iolib.summary.Summary'>\n",
       "\"\"\"\n",
       "                            OLS Regression Results                            \n",
       "==============================================================================\n",
       "Dep. Variable:              returnsNV   R-squared:                       0.419\n",
       "Model:                            OLS   Adj. R-squared:                  0.418\n",
       "Method:                 Least Squares   F-statistic:                     486.7\n",
       "Date:                Wed, 22 Oct 2025   Prob (F-statistic):           1.33e-81\n",
       "Time:                        17:24:52   Log-Likelihood:                 1550.8\n",
       "No. Observations:                 676   AIC:                            -3098.\n",
       "Df Residuals:                     674   BIC:                            -3089.\n",
       "Df Model:                           1                                         \n",
       "Covariance Type:            nonrobust                                         \n",
       "==============================================================================\n",
       "                 coef    std err          t      P>|t|      [0.025      0.975]\n",
       "------------------------------------------------------------------------------\n",
       "const          0.0020      0.001      2.085      0.037       0.000       0.004\n",
       "returnsSPX     2.1476      0.097     22.061      0.000       1.956       2.339\n",
       "==============================================================================\n",
       "Omnibus:                      189.484   Durbin-Watson:                   2.101\n",
       "Prob(Omnibus):                  0.000   Jarque-Bera (JB):             2841.278\n",
       "Skew:                           0.817   Prob(JB):                         0.00\n",
       "Kurtosis:                      12.910   Cond. No.                         104.\n",
       "==============================================================================\n",
       "\n",
       "Notes:\n",
       "[1] Standard Errors assume that the covariance matrix of the errors is correctly specified.\n",
       "\"\"\""
      ],
      "text/html": [
       "<table class=\"simpletable\">\n",
       "<caption>OLS Regression Results</caption>\n",
       "<tr>\n",
       "  <th>Dep. Variable:</th>        <td>returnsNV</td>    <th>  R-squared:         </th> <td>   0.419</td>\n",
       "</tr>\n",
       "<tr>\n",
       "  <th>Model:</th>                   <td>OLS</td>       <th>  Adj. R-squared:    </th> <td>   0.418</td>\n",
       "</tr>\n",
       "<tr>\n",
       "  <th>Method:</th>             <td>Least Squares</td>  <th>  F-statistic:       </th> <td>   486.7</td>\n",
       "</tr>\n",
       "<tr>\n",
       "  <th>Date:</th>             <td>Wed, 22 Oct 2025</td> <th>  Prob (F-statistic):</th> <td>1.33e-81</td>\n",
       "</tr>\n",
       "<tr>\n",
       "  <th>Time:</th>                 <td>17:24:52</td>     <th>  Log-Likelihood:    </th> <td>  1550.8</td>\n",
       "</tr>\n",
       "<tr>\n",
       "  <th>No. Observations:</th>      <td>   676</td>      <th>  AIC:               </th> <td>  -3098.</td>\n",
       "</tr>\n",
       "<tr>\n",
       "  <th>Df Residuals:</th>          <td>   674</td>      <th>  BIC:               </th> <td>  -3089.</td>\n",
       "</tr>\n",
       "<tr>\n",
       "  <th>Df Model:</th>              <td>     1</td>      <th>                     </th>     <td> </td>   \n",
       "</tr>\n",
       "<tr>\n",
       "  <th>Covariance Type:</th>      <td>nonrobust</td>    <th>                     </th>     <td> </td>   \n",
       "</tr>\n",
       "</table>\n",
       "<table class=\"simpletable\">\n",
       "<tr>\n",
       "       <td></td>         <th>coef</th>     <th>std err</th>      <th>t</th>      <th>P>|t|</th>  <th>[0.025</th>    <th>0.975]</th>  \n",
       "</tr>\n",
       "<tr>\n",
       "  <th>const</th>      <td>    0.0020</td> <td>    0.001</td> <td>    2.085</td> <td> 0.037</td> <td>    0.000</td> <td>    0.004</td>\n",
       "</tr>\n",
       "<tr>\n",
       "  <th>returnsSPX</th> <td>    2.1476</td> <td>    0.097</td> <td>   22.061</td> <td> 0.000</td> <td>    1.956</td> <td>    2.339</td>\n",
       "</tr>\n",
       "</table>\n",
       "<table class=\"simpletable\">\n",
       "<tr>\n",
       "  <th>Omnibus:</th>       <td>189.484</td> <th>  Durbin-Watson:     </th> <td>   2.101</td>\n",
       "</tr>\n",
       "<tr>\n",
       "  <th>Prob(Omnibus):</th> <td> 0.000</td>  <th>  Jarque-Bera (JB):  </th> <td>2841.278</td>\n",
       "</tr>\n",
       "<tr>\n",
       "  <th>Skew:</th>          <td> 0.817</td>  <th>  Prob(JB):          </th> <td>    0.00</td>\n",
       "</tr>\n",
       "<tr>\n",
       "  <th>Kurtosis:</th>      <td>12.910</td>  <th>  Cond. No.          </th> <td>    104.</td>\n",
       "</tr>\n",
       "</table><br/><br/>Notes:<br/>[1] Standard Errors assume that the covariance matrix of the errors is correctly specified."
      ],
      "text/latex": "\\begin{center}\n\\begin{tabular}{lclc}\n\\toprule\n\\textbf{Dep. Variable:}    &    returnsNV     & \\textbf{  R-squared:         } &     0.419   \\\\\n\\textbf{Model:}            &       OLS        & \\textbf{  Adj. R-squared:    } &     0.418   \\\\\n\\textbf{Method:}           &  Least Squares   & \\textbf{  F-statistic:       } &     486.7   \\\\\n\\textbf{Date:}             & Wed, 22 Oct 2025 & \\textbf{  Prob (F-statistic):} &  1.33e-81   \\\\\n\\textbf{Time:}             &     17:24:52     & \\textbf{  Log-Likelihood:    } &    1550.8   \\\\\n\\textbf{No. Observations:} &         676      & \\textbf{  AIC:               } &    -3098.   \\\\\n\\textbf{Df Residuals:}     &         674      & \\textbf{  BIC:               } &    -3089.   \\\\\n\\textbf{Df Model:}         &           1      & \\textbf{                     } &             \\\\\n\\textbf{Covariance Type:}  &    nonrobust     & \\textbf{                     } &             \\\\\n\\bottomrule\n\\end{tabular}\n\\begin{tabular}{lcccccc}\n                    & \\textbf{coef} & \\textbf{std err} & \\textbf{t} & \\textbf{P$> |$t$|$} & \\textbf{[0.025} & \\textbf{0.975]}  \\\\\n\\midrule\n\\textbf{const}      &       0.0020  &        0.001     &     2.085  &         0.037        &        0.000    &        0.004     \\\\\n\\textbf{returnsSPX} &       2.1476  &        0.097     &    22.061  &         0.000        &        1.956    &        2.339     \\\\\n\\bottomrule\n\\end{tabular}\n\\begin{tabular}{lclc}\n\\textbf{Omnibus:}       & 189.484 & \\textbf{  Durbin-Watson:     } &    2.101  \\\\\n\\textbf{Prob(Omnibus):} &   0.000 & \\textbf{  Jarque-Bera (JB):  } & 2841.278  \\\\\n\\textbf{Skew:}          &   0.817 & \\textbf{  Prob(JB):          } &     0.00  \\\\\n\\textbf{Kurtosis:}      &  12.910 & \\textbf{  Cond. No.          } &     104.  \\\\\n\\bottomrule\n\\end{tabular}\n%\\caption{OLS Regression Results}\n\\end{center}\n\nNotes: \\newline\n [1] Standard Errors assume that the covariance matrix of the errors is correctly specified."
     },
     "execution_count": 34,
     "metadata": {},
     "output_type": "execute_result"
    }
   ],
   "execution_count": 34
  },
  {
   "metadata": {},
   "cell_type": "markdown",
   "source": "# Jupiter 2 tutorial\n",
   "id": "403e93b7a760bcee"
  },
  {
   "metadata": {},
   "cell_type": "markdown",
   "source": "reanming Data",
   "id": "b608dd9e891843ee"
  },
  {
   "metadata": {
    "ExecuteTime": {
     "end_time": "2025-10-22T15:24:55.495726Z",
     "start_time": "2025-10-22T15:24:55.484814Z"
    }
   },
   "cell_type": "code",
   "source": [
    "# Altername neuer Name\n",
    "df = df.rename(columns={'returnsNV':'NVDA_returns', 'returnsSPX':'SPX_retruns'})\n",
    "df.head()"
   ],
   "id": "ffc0beb4f720df91",
   "outputs": [
    {
     "data": {
      "text/plain": [
       "        Date      SPX    NVDA  SPX_retruns  NVDA_returns\n",
       "0 2023-01-04  3852.97  14.749     0.007511      0.029867\n",
       "1 2023-01-05  3808.10  14.265    -0.011714     -0.033366\n",
       "2 2023-01-06  3895.08  14.859     0.022584      0.040797\n",
       "3 2023-01-09  3892.09  15.628    -0.000768      0.050458\n",
       "4 2023-01-10  3919.25  15.909     0.006954      0.017821"
      ],
      "text/html": [
       "<div>\n",
       "<style scoped>\n",
       "    .dataframe tbody tr th:only-of-type {\n",
       "        vertical-align: middle;\n",
       "    }\n",
       "\n",
       "    .dataframe tbody tr th {\n",
       "        vertical-align: top;\n",
       "    }\n",
       "\n",
       "    .dataframe thead th {\n",
       "        text-align: right;\n",
       "    }\n",
       "</style>\n",
       "<table border=\"1\" class=\"dataframe\">\n",
       "  <thead>\n",
       "    <tr style=\"text-align: right;\">\n",
       "      <th></th>\n",
       "      <th>Date</th>\n",
       "      <th>SPX</th>\n",
       "      <th>NVDA</th>\n",
       "      <th>SPX_retruns</th>\n",
       "      <th>NVDA_returns</th>\n",
       "    </tr>\n",
       "  </thead>\n",
       "  <tbody>\n",
       "    <tr>\n",
       "      <th>0</th>\n",
       "      <td>2023-01-04</td>\n",
       "      <td>3852.97</td>\n",
       "      <td>14.749</td>\n",
       "      <td>0.007511</td>\n",
       "      <td>0.029867</td>\n",
       "    </tr>\n",
       "    <tr>\n",
       "      <th>1</th>\n",
       "      <td>2023-01-05</td>\n",
       "      <td>3808.10</td>\n",
       "      <td>14.265</td>\n",
       "      <td>-0.011714</td>\n",
       "      <td>-0.033366</td>\n",
       "    </tr>\n",
       "    <tr>\n",
       "      <th>2</th>\n",
       "      <td>2023-01-06</td>\n",
       "      <td>3895.08</td>\n",
       "      <td>14.859</td>\n",
       "      <td>0.022584</td>\n",
       "      <td>0.040797</td>\n",
       "    </tr>\n",
       "    <tr>\n",
       "      <th>3</th>\n",
       "      <td>2023-01-09</td>\n",
       "      <td>3892.09</td>\n",
       "      <td>15.628</td>\n",
       "      <td>-0.000768</td>\n",
       "      <td>0.050458</td>\n",
       "    </tr>\n",
       "    <tr>\n",
       "      <th>4</th>\n",
       "      <td>2023-01-10</td>\n",
       "      <td>3919.25</td>\n",
       "      <td>15.909</td>\n",
       "      <td>0.006954</td>\n",
       "      <td>0.017821</td>\n",
       "    </tr>\n",
       "  </tbody>\n",
       "</table>\n",
       "</div>"
      ]
     },
     "execution_count": 35,
     "metadata": {},
     "output_type": "execute_result"
    }
   ],
   "execution_count": 35
  },
  {
   "metadata": {},
   "cell_type": "markdown",
   "source": [
    "3) Load the Fama-French 5-factor (FF5) time-series data\n",
    "4) Format the dates to datetime format\n",
    "5) Merge the SPX/NVDA data and the FF5 data using the SPX/NVDA dataframe as the leading dataframe\n",
    "6) Compute excess returns for NVDA by subtracting the risk-free rate (column \"RF\" in FF5) from simple NVDA returns"
   ],
   "id": "8726a03e2372bf65"
  },
  {
   "metadata": {
    "ExecuteTime": {
     "end_time": "2025-10-22T15:25:00.521003Z",
     "start_time": "2025-10-22T15:24:59.930037Z"
    }
   },
   "cell_type": "code",
   "source": [
    "# 3 wie oben\n",
    "FF5 = pd.read_excel('F-F_Research_Data_5_Factors_2x3_daily.xlsx')\n",
    "FF5['Date'] = pd.to_datetime(FF5['Date'], format='%Y%m%d')\n",
    "# Wir wandeln hier die Porzent werte die  FF ausgibt dafür wandeln wir jeden weert in ein Dezimal wert um und dann passen wir ihn an also \"24%\" -> 0,24\n",
    "factor_cols = ['Mkt-RF', 'SMB', 'HML', 'RMW', 'CMA', 'RF']\n",
    "FF5[factor_cols] = FF5[factor_cols].apply(lambda col: pd.to_numeric(col, errors='coerce')) / 100\n",
    "\n",
    "#5 Hier wieder mergen wo  df das haupt dataframe ist\n",
    "df = df.merge(FF5, how='left', on='Date')\n",
    "\n",
    "# 6\n",
    "df = df.dropna(subset=['NVDA_returns'] + factor_cols).reset_index(drop=True)\n",
    "df['excess_ret_asset'] = df['NVDA_returns'] - df['RF']\n",
    "\n",
    "df.head()\n",
    "\n"
   ],
   "id": "7c24dbdedae9a5a9",
   "outputs": [
    {
     "data": {
      "text/plain": [
       "        Date      SPX    NVDA  SPX_retruns  NVDA_returns  Mkt-RF     SMB  \\\n",
       "0 2023-01-04  3852.97  14.749     0.007511      0.029867  0.0081  0.0056   \n",
       "1 2023-01-05  3808.10  14.265    -0.011714     -0.033366 -0.0114  0.0017   \n",
       "2 2023-01-06  3895.08  14.859     0.022584      0.040797  0.0221 -0.0001   \n",
       "3 2023-01-09  3892.09  15.628    -0.000768      0.050458  0.0003  0.0033   \n",
       "4 2023-01-10  3919.25  15.909     0.006954      0.017821  0.0079  0.0087   \n",
       "\n",
       "      HML     RMW     CMA      RF  excess_ret_asset  \n",
       "0  0.0005 -0.0069  0.0000  0.0002          0.029667  \n",
       "1  0.0120  0.0081  0.0090  0.0002         -0.033566  \n",
       "2  0.0003  0.0082  0.0018  0.0002          0.040597  \n",
       "3 -0.0123 -0.0065 -0.0116  0.0002          0.050258  \n",
       "4 -0.0056 -0.0040 -0.0050  0.0002          0.017621  "
      ],
      "text/html": [
       "<div>\n",
       "<style scoped>\n",
       "    .dataframe tbody tr th:only-of-type {\n",
       "        vertical-align: middle;\n",
       "    }\n",
       "\n",
       "    .dataframe tbody tr th {\n",
       "        vertical-align: top;\n",
       "    }\n",
       "\n",
       "    .dataframe thead th {\n",
       "        text-align: right;\n",
       "    }\n",
       "</style>\n",
       "<table border=\"1\" class=\"dataframe\">\n",
       "  <thead>\n",
       "    <tr style=\"text-align: right;\">\n",
       "      <th></th>\n",
       "      <th>Date</th>\n",
       "      <th>SPX</th>\n",
       "      <th>NVDA</th>\n",
       "      <th>SPX_retruns</th>\n",
       "      <th>NVDA_returns</th>\n",
       "      <th>Mkt-RF</th>\n",
       "      <th>SMB</th>\n",
       "      <th>HML</th>\n",
       "      <th>RMW</th>\n",
       "      <th>CMA</th>\n",
       "      <th>RF</th>\n",
       "      <th>excess_ret_asset</th>\n",
       "    </tr>\n",
       "  </thead>\n",
       "  <tbody>\n",
       "    <tr>\n",
       "      <th>0</th>\n",
       "      <td>2023-01-04</td>\n",
       "      <td>3852.97</td>\n",
       "      <td>14.749</td>\n",
       "      <td>0.007511</td>\n",
       "      <td>0.029867</td>\n",
       "      <td>0.0081</td>\n",
       "      <td>0.0056</td>\n",
       "      <td>0.0005</td>\n",
       "      <td>-0.0069</td>\n",
       "      <td>0.0000</td>\n",
       "      <td>0.0002</td>\n",
       "      <td>0.029667</td>\n",
       "    </tr>\n",
       "    <tr>\n",
       "      <th>1</th>\n",
       "      <td>2023-01-05</td>\n",
       "      <td>3808.10</td>\n",
       "      <td>14.265</td>\n",
       "      <td>-0.011714</td>\n",
       "      <td>-0.033366</td>\n",
       "      <td>-0.0114</td>\n",
       "      <td>0.0017</td>\n",
       "      <td>0.0120</td>\n",
       "      <td>0.0081</td>\n",
       "      <td>0.0090</td>\n",
       "      <td>0.0002</td>\n",
       "      <td>-0.033566</td>\n",
       "    </tr>\n",
       "    <tr>\n",
       "      <th>2</th>\n",
       "      <td>2023-01-06</td>\n",
       "      <td>3895.08</td>\n",
       "      <td>14.859</td>\n",
       "      <td>0.022584</td>\n",
       "      <td>0.040797</td>\n",
       "      <td>0.0221</td>\n",
       "      <td>-0.0001</td>\n",
       "      <td>0.0003</td>\n",
       "      <td>0.0082</td>\n",
       "      <td>0.0018</td>\n",
       "      <td>0.0002</td>\n",
       "      <td>0.040597</td>\n",
       "    </tr>\n",
       "    <tr>\n",
       "      <th>3</th>\n",
       "      <td>2023-01-09</td>\n",
       "      <td>3892.09</td>\n",
       "      <td>15.628</td>\n",
       "      <td>-0.000768</td>\n",
       "      <td>0.050458</td>\n",
       "      <td>0.0003</td>\n",
       "      <td>0.0033</td>\n",
       "      <td>-0.0123</td>\n",
       "      <td>-0.0065</td>\n",
       "      <td>-0.0116</td>\n",
       "      <td>0.0002</td>\n",
       "      <td>0.050258</td>\n",
       "    </tr>\n",
       "    <tr>\n",
       "      <th>4</th>\n",
       "      <td>2023-01-10</td>\n",
       "      <td>3919.25</td>\n",
       "      <td>15.909</td>\n",
       "      <td>0.006954</td>\n",
       "      <td>0.017821</td>\n",
       "      <td>0.0079</td>\n",
       "      <td>0.0087</td>\n",
       "      <td>-0.0056</td>\n",
       "      <td>-0.0040</td>\n",
       "      <td>-0.0050</td>\n",
       "      <td>0.0002</td>\n",
       "      <td>0.017621</td>\n",
       "    </tr>\n",
       "  </tbody>\n",
       "</table>\n",
       "</div>"
      ]
     },
     "execution_count": 36,
     "metadata": {},
     "output_type": "execute_result"
    }
   ],
   "execution_count": 36
  },
  {
   "metadata": {},
   "cell_type": "markdown",
   "source": "# Multivariant regression",
   "id": "196b4fe47a99cd3b"
  },
  {
   "metadata": {},
   "cell_type": "markdown",
   "source": "1) Regress NVDA excess returns on a constant and all 5 Fama-French factors (\"Mkt-RF\", \"SMB\", \"HML\", \"RMW\", \"CMA\")",
   "id": "4a5ca0f8257f68f8"
  },
  {
   "metadata": {
    "ExecuteTime": {
     "end_time": "2025-10-22T15:39:11.512236Z",
     "start_time": "2025-10-22T15:39:11.443351Z"
    }
   },
   "cell_type": "code",
   "source": [
    "Y = df['excess_ret_asset']\n",
    "X = df[['Mkt-RF', 'SMB', 'HML', 'RMW', 'CMA']]\n",
    "\n",
    "X = sm.add_constant(X)\n",
    "model = sm.OLS(Y, X).fit()\n",
    "model.summary()"
   ],
   "id": "33329bc1e4f7bc61",
   "outputs": [
    {
     "data": {
      "text/plain": [
       "<class 'statsmodels.iolib.summary.Summary'>\n",
       "\"\"\"\n",
       "                            OLS Regression Results                            \n",
       "==============================================================================\n",
       "Dep. Variable:       excess_ret_asset   R-squared:                       0.539\n",
       "Model:                            OLS   Adj. R-squared:                  0.535\n",
       "Method:                 Least Squares   F-statistic:                     149.3\n",
       "Date:                Wed, 22 Oct 2025   Prob (F-statistic):          7.34e-105\n",
       "Time:                        17:39:11   Log-Likelihood:                 1543.0\n",
       "No. Observations:                 645   AIC:                            -3074.\n",
       "Df Residuals:                     639   BIC:                            -3047.\n",
       "Df Model:                           5                                         \n",
       "Covariance Type:            nonrobust                                         \n",
       "==============================================================================\n",
       "                 coef    std err          t      P>|t|      [0.025      0.975]\n",
       "------------------------------------------------------------------------------\n",
       "const          0.0019      0.001      2.115      0.035       0.000       0.004\n",
       "Mkt-RF         2.0007      0.096     20.877      0.000       1.812       2.189\n",
       "SMB           -0.5027      0.150     -3.356      0.001      -0.797      -0.209\n",
       "HML           -1.3627      0.146     -9.351      0.000      -1.649      -1.077\n",
       "RMW            0.4705      0.201      2.338      0.020       0.075       0.866\n",
       "CMA            0.3649      0.190      1.924      0.055      -0.008       0.737\n",
       "==============================================================================\n",
       "Omnibus:                      186.790   Durbin-Watson:                   2.124\n",
       "Prob(Omnibus):                  0.000   Jarque-Bera (JB):             2212.689\n",
       "Skew:                           0.930   Prob(JB):                         0.00\n",
       "Kurtosis:                      11.881   Cond. No.                         269.\n",
       "==============================================================================\n",
       "\n",
       "Notes:\n",
       "[1] Standard Errors assume that the covariance matrix of the errors is correctly specified.\n",
       "\"\"\""
      ],
      "text/html": [
       "<table class=\"simpletable\">\n",
       "<caption>OLS Regression Results</caption>\n",
       "<tr>\n",
       "  <th>Dep. Variable:</th>    <td>excess_ret_asset</td> <th>  R-squared:         </th> <td>   0.539</td> \n",
       "</tr>\n",
       "<tr>\n",
       "  <th>Model:</th>                   <td>OLS</td>       <th>  Adj. R-squared:    </th> <td>   0.535</td> \n",
       "</tr>\n",
       "<tr>\n",
       "  <th>Method:</th>             <td>Least Squares</td>  <th>  F-statistic:       </th> <td>   149.3</td> \n",
       "</tr>\n",
       "<tr>\n",
       "  <th>Date:</th>             <td>Wed, 22 Oct 2025</td> <th>  Prob (F-statistic):</th> <td>7.34e-105</td>\n",
       "</tr>\n",
       "<tr>\n",
       "  <th>Time:</th>                 <td>17:39:11</td>     <th>  Log-Likelihood:    </th> <td>  1543.0</td> \n",
       "</tr>\n",
       "<tr>\n",
       "  <th>No. Observations:</th>      <td>   645</td>      <th>  AIC:               </th> <td>  -3074.</td> \n",
       "</tr>\n",
       "<tr>\n",
       "  <th>Df Residuals:</th>          <td>   639</td>      <th>  BIC:               </th> <td>  -3047.</td> \n",
       "</tr>\n",
       "<tr>\n",
       "  <th>Df Model:</th>              <td>     5</td>      <th>                     </th>     <td> </td>    \n",
       "</tr>\n",
       "<tr>\n",
       "  <th>Covariance Type:</th>      <td>nonrobust</td>    <th>                     </th>     <td> </td>    \n",
       "</tr>\n",
       "</table>\n",
       "<table class=\"simpletable\">\n",
       "<tr>\n",
       "     <td></td>       <th>coef</th>     <th>std err</th>      <th>t</th>      <th>P>|t|</th>  <th>[0.025</th>    <th>0.975]</th>  \n",
       "</tr>\n",
       "<tr>\n",
       "  <th>const</th>  <td>    0.0019</td> <td>    0.001</td> <td>    2.115</td> <td> 0.035</td> <td>    0.000</td> <td>    0.004</td>\n",
       "</tr>\n",
       "<tr>\n",
       "  <th>Mkt-RF</th> <td>    2.0007</td> <td>    0.096</td> <td>   20.877</td> <td> 0.000</td> <td>    1.812</td> <td>    2.189</td>\n",
       "</tr>\n",
       "<tr>\n",
       "  <th>SMB</th>    <td>   -0.5027</td> <td>    0.150</td> <td>   -3.356</td> <td> 0.001</td> <td>   -0.797</td> <td>   -0.209</td>\n",
       "</tr>\n",
       "<tr>\n",
       "  <th>HML</th>    <td>   -1.3627</td> <td>    0.146</td> <td>   -9.351</td> <td> 0.000</td> <td>   -1.649</td> <td>   -1.077</td>\n",
       "</tr>\n",
       "<tr>\n",
       "  <th>RMW</th>    <td>    0.4705</td> <td>    0.201</td> <td>    2.338</td> <td> 0.020</td> <td>    0.075</td> <td>    0.866</td>\n",
       "</tr>\n",
       "<tr>\n",
       "  <th>CMA</th>    <td>    0.3649</td> <td>    0.190</td> <td>    1.924</td> <td> 0.055</td> <td>   -0.008</td> <td>    0.737</td>\n",
       "</tr>\n",
       "</table>\n",
       "<table class=\"simpletable\">\n",
       "<tr>\n",
       "  <th>Omnibus:</th>       <td>186.790</td> <th>  Durbin-Watson:     </th> <td>   2.124</td>\n",
       "</tr>\n",
       "<tr>\n",
       "  <th>Prob(Omnibus):</th> <td> 0.000</td>  <th>  Jarque-Bera (JB):  </th> <td>2212.689</td>\n",
       "</tr>\n",
       "<tr>\n",
       "  <th>Skew:</th>          <td> 0.930</td>  <th>  Prob(JB):          </th> <td>    0.00</td>\n",
       "</tr>\n",
       "<tr>\n",
       "  <th>Kurtosis:</th>      <td>11.881</td>  <th>  Cond. No.          </th> <td>    269.</td>\n",
       "</tr>\n",
       "</table><br/><br/>Notes:<br/>[1] Standard Errors assume that the covariance matrix of the errors is correctly specified."
      ],
      "text/latex": "\\begin{center}\n\\begin{tabular}{lclc}\n\\toprule\n\\textbf{Dep. Variable:}    & excess\\_ret\\_asset & \\textbf{  R-squared:         } &     0.539   \\\\\n\\textbf{Model:}            &        OLS         & \\textbf{  Adj. R-squared:    } &     0.535   \\\\\n\\textbf{Method:}           &   Least Squares    & \\textbf{  F-statistic:       } &     149.3   \\\\\n\\textbf{Date:}             &  Wed, 22 Oct 2025  & \\textbf{  Prob (F-statistic):} & 7.34e-105   \\\\\n\\textbf{Time:}             &      17:39:11      & \\textbf{  Log-Likelihood:    } &    1543.0   \\\\\n\\textbf{No. Observations:} &          645       & \\textbf{  AIC:               } &    -3074.   \\\\\n\\textbf{Df Residuals:}     &          639       & \\textbf{  BIC:               } &    -3047.   \\\\\n\\textbf{Df Model:}         &            5       & \\textbf{                     } &             \\\\\n\\textbf{Covariance Type:}  &     nonrobust      & \\textbf{                     } &             \\\\\n\\bottomrule\n\\end{tabular}\n\\begin{tabular}{lcccccc}\n                & \\textbf{coef} & \\textbf{std err} & \\textbf{t} & \\textbf{P$> |$t$|$} & \\textbf{[0.025} & \\textbf{0.975]}  \\\\\n\\midrule\n\\textbf{const}  &       0.0019  &        0.001     &     2.115  &         0.035        &        0.000    &        0.004     \\\\\n\\textbf{Mkt-RF} &       2.0007  &        0.096     &    20.877  &         0.000        &        1.812    &        2.189     \\\\\n\\textbf{SMB}    &      -0.5027  &        0.150     &    -3.356  &         0.001        &       -0.797    &       -0.209     \\\\\n\\textbf{HML}    &      -1.3627  &        0.146     &    -9.351  &         0.000        &       -1.649    &       -1.077     \\\\\n\\textbf{RMW}    &       0.4705  &        0.201     &     2.338  &         0.020        &        0.075    &        0.866     \\\\\n\\textbf{CMA}    &       0.3649  &        0.190     &     1.924  &         0.055        &       -0.008    &        0.737     \\\\\n\\bottomrule\n\\end{tabular}\n\\begin{tabular}{lclc}\n\\textbf{Omnibus:}       & 186.790 & \\textbf{  Durbin-Watson:     } &    2.124  \\\\\n\\textbf{Prob(Omnibus):} &   0.000 & \\textbf{  Jarque-Bera (JB):  } & 2212.689  \\\\\n\\textbf{Skew:}          &   0.930 & \\textbf{  Prob(JB):          } &     0.00  \\\\\n\\textbf{Kurtosis:}      &  11.881 & \\textbf{  Cond. No.          } &     269.  \\\\\n\\bottomrule\n\\end{tabular}\n%\\caption{OLS Regression Results}\n\\end{center}\n\nNotes: \\newline\n [1] Standard Errors assume that the covariance matrix of the errors is correctly specified."
     },
     "execution_count": 37,
     "metadata": {},
     "output_type": "execute_result"
    }
   ],
   "execution_count": 37
  },
  {
   "metadata": {},
   "cell_type": "markdown",
   "source": [
    "Deutung der Tabelle:\n",
    "\n",
    "Also schaue in der coffezienze tabelle, was kleiner und das will ich mir anschauen alsi umsokleiner P>T dings umso wischtiger ist das. Z.B. CMA ist zu hoch deswegen sit das scheiß egal weil es 0.102 ist das heiußt das einfach zu hoch\n",
    "\n",
    "Dann interepretation was mache ich wenn als bsp mein Market RF wenn das um 1 hoch geht dann geht NVDA um 0.0203 hoch also um den wert der da angegeben wird bei coef. bzw wenn iche s weiter eherhöe dann gehts weiter hoch.\n",
    "\n",
    "Prp: durch slides gehen und checken wo die alle zu finden sind in der tabelle so die connections machen. Glaube da wird dann alles abgefragt also z.B. Skew was das was mcht das etc was R2 und so also die tabelle verstehen und wissen wo alles steht\n",
    "\n",
    "\n",
    "\n"
   ],
   "id": "f6d3923bf3746426"
  },
  {
   "metadata": {
    "ExecuteTime": {
     "end_time": "2025-10-22T16:26:35.798951Z",
     "start_time": "2025-10-22T16:26:35.756247Z"
    }
   },
   "cell_type": "code",
   "source": [
    "factor_loadings = pd.DataFrame({\n",
    "    'coef': model.params,\n",
    "    't_stat': model.tvalues,\n",
    "    'p_value': model.pvalues\n",
    "})\n",
    "factor_loadings\n"
   ],
   "id": "e5aaa089c78fc1eb",
   "outputs": [
    {
     "data": {
      "text/plain": [
       "            coef     t_stat       p_value\n",
       "const   0.001865   2.114923  3.482301e-02\n",
       "Mkt-RF  2.000664  20.876824  3.443360e-74\n",
       "SMB    -0.502730  -3.356430  8.363649e-04\n",
       "HML    -1.362656  -9.351024  1.438244e-19\n",
       "RMW     0.470550   2.337570  1.971735e-02\n",
       "CMA     0.364945   1.924028  5.479492e-02"
      ],
      "text/html": [
       "<div>\n",
       "<style scoped>\n",
       "    .dataframe tbody tr th:only-of-type {\n",
       "        vertical-align: middle;\n",
       "    }\n",
       "\n",
       "    .dataframe tbody tr th {\n",
       "        vertical-align: top;\n",
       "    }\n",
       "\n",
       "    .dataframe thead th {\n",
       "        text-align: right;\n",
       "    }\n",
       "</style>\n",
       "<table border=\"1\" class=\"dataframe\">\n",
       "  <thead>\n",
       "    <tr style=\"text-align: right;\">\n",
       "      <th></th>\n",
       "      <th>coef</th>\n",
       "      <th>t_stat</th>\n",
       "      <th>p_value</th>\n",
       "    </tr>\n",
       "  </thead>\n",
       "  <tbody>\n",
       "    <tr>\n",
       "      <th>const</th>\n",
       "      <td>0.001865</td>\n",
       "      <td>2.114923</td>\n",
       "      <td>3.482301e-02</td>\n",
       "    </tr>\n",
       "    <tr>\n",
       "      <th>Mkt-RF</th>\n",
       "      <td>2.000664</td>\n",
       "      <td>20.876824</td>\n",
       "      <td>3.443360e-74</td>\n",
       "    </tr>\n",
       "    <tr>\n",
       "      <th>SMB</th>\n",
       "      <td>-0.502730</td>\n",
       "      <td>-3.356430</td>\n",
       "      <td>8.363649e-04</td>\n",
       "    </tr>\n",
       "    <tr>\n",
       "      <th>HML</th>\n",
       "      <td>-1.362656</td>\n",
       "      <td>-9.351024</td>\n",
       "      <td>1.438244e-19</td>\n",
       "    </tr>\n",
       "    <tr>\n",
       "      <th>RMW</th>\n",
       "      <td>0.470550</td>\n",
       "      <td>2.337570</td>\n",
       "      <td>1.971735e-02</td>\n",
       "    </tr>\n",
       "    <tr>\n",
       "      <th>CMA</th>\n",
       "      <td>0.364945</td>\n",
       "      <td>1.924028</td>\n",
       "      <td>5.479492e-02</td>\n",
       "    </tr>\n",
       "  </tbody>\n",
       "</table>\n",
       "</div>"
      ]
     },
     "execution_count": 38,
     "metadata": {},
     "output_type": "execute_result"
    }
   ],
   "execution_count": 38
  },
  {
   "metadata": {},
   "cell_type": "markdown",
   "source": "# FED Probit model",
   "id": "99a401e693d6fad3"
  },
  {
   "metadata": {},
   "cell_type": "markdown",
   "source": [
    "1) Load the dataset containing the difference between the 3-month and 10-year Treasury yield (t10y3m)\n",
    "2) Ensure the dates are in datetime format and create a new column that contains the first date of the month to use it as a month indicator\n",
    "3) Group data by that month indicator taking the monthly mean of the yield spread"
   ],
   "id": "354a435fcd7c6a25"
  },
  {
   "metadata": {
    "ExecuteTime": {
     "end_time": "2025-10-22T16:33:05.744145Z",
     "start_time": "2025-10-22T16:33:05.526823Z"
    }
   },
   "cell_type": "code",
   "source": [
    "#1\n",
    "t10y3m = pd.read_excel(\"T10Y3M.xlsx\")\n",
    "t10y3m[\"observation_date\"] = pd.to_datetime(t10y3m[\"observation_date\"])\n",
    "t10y3m[\"month\"] = t10y3m[\"observation_date\"].dt.to_period(\"M\").dt.to_timestamp()\n",
    "t10y3m = t10y3m.groupby(\"month\",as_index=False)[\"T10Y3M\"].mean()\n",
    "t10y3m"
   ],
   "id": "1a630081c40815e2",
   "outputs": [
    {
     "data": {
      "text/plain": [
       "         month    T10Y3M\n",
       "0   1982-01-01  1.676000\n",
       "1   1982-02-01  0.146111\n",
       "2   1982-03-01  0.546522\n",
       "3   1982-04-01  0.527143\n",
       "4   1982-05-01  0.908500\n",
       "..         ...       ...\n",
       "521 2025-06-01 -0.037500\n",
       "522 2025-07-01 -0.020455\n",
       "523 2025-08-01 -0.040000\n",
       "524 2025-09-01  0.054762\n",
       "525 2025-10-01  0.095000\n",
       "\n",
       "[526 rows x 2 columns]"
      ],
      "text/html": [
       "<div>\n",
       "<style scoped>\n",
       "    .dataframe tbody tr th:only-of-type {\n",
       "        vertical-align: middle;\n",
       "    }\n",
       "\n",
       "    .dataframe tbody tr th {\n",
       "        vertical-align: top;\n",
       "    }\n",
       "\n",
       "    .dataframe thead th {\n",
       "        text-align: right;\n",
       "    }\n",
       "</style>\n",
       "<table border=\"1\" class=\"dataframe\">\n",
       "  <thead>\n",
       "    <tr style=\"text-align: right;\">\n",
       "      <th></th>\n",
       "      <th>month</th>\n",
       "      <th>T10Y3M</th>\n",
       "    </tr>\n",
       "  </thead>\n",
       "  <tbody>\n",
       "    <tr>\n",
       "      <th>0</th>\n",
       "      <td>1982-01-01</td>\n",
       "      <td>1.676000</td>\n",
       "    </tr>\n",
       "    <tr>\n",
       "      <th>1</th>\n",
       "      <td>1982-02-01</td>\n",
       "      <td>0.146111</td>\n",
       "    </tr>\n",
       "    <tr>\n",
       "      <th>2</th>\n",
       "      <td>1982-03-01</td>\n",
       "      <td>0.546522</td>\n",
       "    </tr>\n",
       "    <tr>\n",
       "      <th>3</th>\n",
       "      <td>1982-04-01</td>\n",
       "      <td>0.527143</td>\n",
       "    </tr>\n",
       "    <tr>\n",
       "      <th>4</th>\n",
       "      <td>1982-05-01</td>\n",
       "      <td>0.908500</td>\n",
       "    </tr>\n",
       "    <tr>\n",
       "      <th>...</th>\n",
       "      <td>...</td>\n",
       "      <td>...</td>\n",
       "    </tr>\n",
       "    <tr>\n",
       "      <th>521</th>\n",
       "      <td>2025-06-01</td>\n",
       "      <td>-0.037500</td>\n",
       "    </tr>\n",
       "    <tr>\n",
       "      <th>522</th>\n",
       "      <td>2025-07-01</td>\n",
       "      <td>-0.020455</td>\n",
       "    </tr>\n",
       "    <tr>\n",
       "      <th>523</th>\n",
       "      <td>2025-08-01</td>\n",
       "      <td>-0.040000</td>\n",
       "    </tr>\n",
       "    <tr>\n",
       "      <th>524</th>\n",
       "      <td>2025-09-01</td>\n",
       "      <td>0.054762</td>\n",
       "    </tr>\n",
       "    <tr>\n",
       "      <th>525</th>\n",
       "      <td>2025-10-01</td>\n",
       "      <td>0.095000</td>\n",
       "    </tr>\n",
       "  </tbody>\n",
       "</table>\n",
       "<p>526 rows × 2 columns</p>\n",
       "</div>"
      ]
     },
     "execution_count": 39,
     "metadata": {},
     "output_type": "execute_result"
    }
   ],
   "execution_count": 39
  },
  {
   "metadata": {},
   "cell_type": "markdown",
   "source": "4) Load the dataset with monthly recession indicators and ensure the date column is in datetime format",
   "id": "8c18995bcf6b51e8"
  },
  {
   "metadata": {
    "ExecuteTime": {
     "end_time": "2025-10-22T16:34:02.036014Z",
     "start_time": "2025-10-22T16:34:01.983504Z"
    }
   },
   "cell_type": "code",
   "source": [
    "usrce = pd.read_excel('USREC.xlsx')\n",
    "usrce['observation_date'] = pd.to_datetime(usrce['observation_date'])\n",
    "usrce['month'] = usrce['observation_date'].dt.to_period('M').dt.to_timestamp()\n",
    "usrce = usrce.groupby('month', as_index=False)['USREC'].mean()\n",
    "usrce.head()\n"
   ],
   "id": "382eb7290fde8039",
   "outputs": [
    {
     "data": {
      "text/plain": [
       "       month  USREC\n",
       "0 1900-02-01    1.0\n",
       "1 1900-03-01    1.0\n",
       "2 1900-04-01    1.0\n",
       "3 1900-05-01    1.0\n",
       "4 1900-06-01    1.0"
      ],
      "text/html": [
       "<div>\n",
       "<style scoped>\n",
       "    .dataframe tbody tr th:only-of-type {\n",
       "        vertical-align: middle;\n",
       "    }\n",
       "\n",
       "    .dataframe tbody tr th {\n",
       "        vertical-align: top;\n",
       "    }\n",
       "\n",
       "    .dataframe thead th {\n",
       "        text-align: right;\n",
       "    }\n",
       "</style>\n",
       "<table border=\"1\" class=\"dataframe\">\n",
       "  <thead>\n",
       "    <tr style=\"text-align: right;\">\n",
       "      <th></th>\n",
       "      <th>month</th>\n",
       "      <th>USREC</th>\n",
       "    </tr>\n",
       "  </thead>\n",
       "  <tbody>\n",
       "    <tr>\n",
       "      <th>0</th>\n",
       "      <td>1900-02-01</td>\n",
       "      <td>1.0</td>\n",
       "    </tr>\n",
       "    <tr>\n",
       "      <th>1</th>\n",
       "      <td>1900-03-01</td>\n",
       "      <td>1.0</td>\n",
       "    </tr>\n",
       "    <tr>\n",
       "      <th>2</th>\n",
       "      <td>1900-04-01</td>\n",
       "      <td>1.0</td>\n",
       "    </tr>\n",
       "    <tr>\n",
       "      <th>3</th>\n",
       "      <td>1900-05-01</td>\n",
       "      <td>1.0</td>\n",
       "    </tr>\n",
       "    <tr>\n",
       "      <th>4</th>\n",
       "      <td>1900-06-01</td>\n",
       "      <td>1.0</td>\n",
       "    </tr>\n",
       "  </tbody>\n",
       "</table>\n",
       "</div>"
      ]
     },
     "execution_count": 40,
     "metadata": {},
     "output_type": "execute_result"
    }
   ],
   "execution_count": 40
  },
  {
   "metadata": {},
   "cell_type": "markdown",
   "source": [
    "5) Merge the two dataframes using on the month indicator the yield spread as the leading dataframe\n",
    "6) Create a new column that gives the 12 months ahead recession indicator using the .shift() method\n",
    "7) Drop NaN observations"
   ],
   "id": "1a7f29f0f6f64162"
  },
  {
   "metadata": {
    "ExecuteTime": {
     "end_time": "2025-10-22T16:34:27.068930Z",
     "start_time": "2025-10-22T16:34:27.050484Z"
    }
   },
   "cell_type": "code",
   "source": [
    "fed_rec = t10y3m.merge(usrce, how='left', on='month')\n",
    "fed_rec['USREC_12m'] = fed_rec['USREC'].shift(-12)\n",
    "fed_rec = fed_rec.dropna(subset=['USREC_12m']).reset_index(drop=True)\n",
    "fed_rec.head()\n"
   ],
   "id": "82e988dedce6a280",
   "outputs": [
    {
     "data": {
      "text/plain": [
       "       month    T10Y3M  USREC  USREC_12m\n",
       "0 1982-01-01  1.676000    1.0        0.0\n",
       "1 1982-02-01  0.146111    1.0        0.0\n",
       "2 1982-03-01  0.546522    1.0        0.0\n",
       "3 1982-04-01  0.527143    1.0        0.0\n",
       "4 1982-05-01  0.908500    1.0        0.0"
      ],
      "text/html": [
       "<div>\n",
       "<style scoped>\n",
       "    .dataframe tbody tr th:only-of-type {\n",
       "        vertical-align: middle;\n",
       "    }\n",
       "\n",
       "    .dataframe tbody tr th {\n",
       "        vertical-align: top;\n",
       "    }\n",
       "\n",
       "    .dataframe thead th {\n",
       "        text-align: right;\n",
       "    }\n",
       "</style>\n",
       "<table border=\"1\" class=\"dataframe\">\n",
       "  <thead>\n",
       "    <tr style=\"text-align: right;\">\n",
       "      <th></th>\n",
       "      <th>month</th>\n",
       "      <th>T10Y3M</th>\n",
       "      <th>USREC</th>\n",
       "      <th>USREC_12m</th>\n",
       "    </tr>\n",
       "  </thead>\n",
       "  <tbody>\n",
       "    <tr>\n",
       "      <th>0</th>\n",
       "      <td>1982-01-01</td>\n",
       "      <td>1.676000</td>\n",
       "      <td>1.0</td>\n",
       "      <td>0.0</td>\n",
       "    </tr>\n",
       "    <tr>\n",
       "      <th>1</th>\n",
       "      <td>1982-02-01</td>\n",
       "      <td>0.146111</td>\n",
       "      <td>1.0</td>\n",
       "      <td>0.0</td>\n",
       "    </tr>\n",
       "    <tr>\n",
       "      <th>2</th>\n",
       "      <td>1982-03-01</td>\n",
       "      <td>0.546522</td>\n",
       "      <td>1.0</td>\n",
       "      <td>0.0</td>\n",
       "    </tr>\n",
       "    <tr>\n",
       "      <th>3</th>\n",
       "      <td>1982-04-01</td>\n",
       "      <td>0.527143</td>\n",
       "      <td>1.0</td>\n",
       "      <td>0.0</td>\n",
       "    </tr>\n",
       "    <tr>\n",
       "      <th>4</th>\n",
       "      <td>1982-05-01</td>\n",
       "      <td>0.908500</td>\n",
       "      <td>1.0</td>\n",
       "      <td>0.0</td>\n",
       "    </tr>\n",
       "  </tbody>\n",
       "</table>\n",
       "</div>"
      ]
     },
     "execution_count": 41,
     "metadata": {},
     "output_type": "execute_result"
    }
   ],
   "execution_count": 41
  },
  {
   "metadata": {},
   "cell_type": "markdown",
   "source": "8) Estimate a probit model with an intercept, the yield spread as an independent variable and 12 month ahead recession indicator as the dependent variable using data until December 2009",
   "id": "39606b6764650dc7"
  },
  {
   "metadata": {
    "ExecuteTime": {
     "end_time": "2025-10-22T16:35:08.175881Z",
     "start_time": "2025-10-22T16:35:08.146880Z"
    }
   },
   "cell_type": "code",
   "source": [
    "est_sample = fed_rec[fed_rec['month'] <= '2009-12-31']\n",
    "X_est = sm.add_constant(est_sample['T10Y3M'])\n",
    "y_est = est_sample['USREC_12m']\n",
    "\n",
    "probit_model = Probit(y_est, X_est).fit(disp=False)\n",
    "probit_model.summary()\n"
   ],
   "id": "4677550009781856",
   "outputs": [
    {
     "data": {
      "text/plain": [
       "<class 'statsmodels.iolib.summary.Summary'>\n",
       "\"\"\"\n",
       "                          Probit Regression Results                           \n",
       "==============================================================================\n",
       "Dep. Variable:              USREC_12m   No. Observations:                  336\n",
       "Model:                         Probit   Df Residuals:                      334\n",
       "Method:                           MLE   Df Model:                            1\n",
       "Date:                Wed, 22 Oct 2025   Pseudo R-squ.:                  0.2598\n",
       "Time:                        18:35:08   Log-Likelihood:                -81.503\n",
       "converged:                       True   LL-Null:                       -110.10\n",
       "Covariance Type:            nonrobust   LLR p-value:                 3.933e-14\n",
       "==============================================================================\n",
       "                 coef    std err          z      P>|z|      [0.025      0.975]\n",
       "------------------------------------------------------------------------------\n",
       "const         -0.4006      0.148     -2.707      0.007      -0.691      -0.111\n",
       "T10Y3M        -0.7572      0.125     -6.058      0.000      -1.002      -0.512\n",
       "==============================================================================\n",
       "\"\"\""
      ],
      "text/html": [
       "<table class=\"simpletable\">\n",
       "<caption>Probit Regression Results</caption>\n",
       "<tr>\n",
       "  <th>Dep. Variable:</th>       <td>USREC_12m</td>    <th>  No. Observations:  </th>  <td>   336</td>  \n",
       "</tr>\n",
       "<tr>\n",
       "  <th>Model:</th>                <td>Probit</td>      <th>  Df Residuals:      </th>  <td>   334</td>  \n",
       "</tr>\n",
       "<tr>\n",
       "  <th>Method:</th>                 <td>MLE</td>       <th>  Df Model:          </th>  <td>     1</td>  \n",
       "</tr>\n",
       "<tr>\n",
       "  <th>Date:</th>            <td>Wed, 22 Oct 2025</td> <th>  Pseudo R-squ.:     </th>  <td>0.2598</td>  \n",
       "</tr>\n",
       "<tr>\n",
       "  <th>Time:</th>                <td>18:35:08</td>     <th>  Log-Likelihood:    </th> <td> -81.503</td> \n",
       "</tr>\n",
       "<tr>\n",
       "  <th>converged:</th>             <td>True</td>       <th>  LL-Null:           </th> <td> -110.10</td> \n",
       "</tr>\n",
       "<tr>\n",
       "  <th>Covariance Type:</th>     <td>nonrobust</td>    <th>  LLR p-value:       </th> <td>3.933e-14</td>\n",
       "</tr>\n",
       "</table>\n",
       "<table class=\"simpletable\">\n",
       "<tr>\n",
       "     <td></td>       <th>coef</th>     <th>std err</th>      <th>z</th>      <th>P>|z|</th>  <th>[0.025</th>    <th>0.975]</th>  \n",
       "</tr>\n",
       "<tr>\n",
       "  <th>const</th>  <td>   -0.4006</td> <td>    0.148</td> <td>   -2.707</td> <td> 0.007</td> <td>   -0.691</td> <td>   -0.111</td>\n",
       "</tr>\n",
       "<tr>\n",
       "  <th>T10Y3M</th> <td>   -0.7572</td> <td>    0.125</td> <td>   -6.058</td> <td> 0.000</td> <td>   -1.002</td> <td>   -0.512</td>\n",
       "</tr>\n",
       "</table>"
      ],
      "text/latex": "\\begin{center}\n\\begin{tabular}{lclc}\n\\toprule\n\\textbf{Dep. Variable:}   &    USREC\\_12m    & \\textbf{  No. Observations:  } &      336    \\\\\n\\textbf{Model:}           &      Probit      & \\textbf{  Df Residuals:      } &      334    \\\\\n\\textbf{Method:}          &       MLE        & \\textbf{  Df Model:          } &        1    \\\\\n\\textbf{Date:}            & Wed, 22 Oct 2025 & \\textbf{  Pseudo R-squ.:     } &   0.2598    \\\\\n\\textbf{Time:}            &     18:35:08     & \\textbf{  Log-Likelihood:    } &   -81.503   \\\\\n\\textbf{converged:}       &       True       & \\textbf{  LL-Null:           } &   -110.10   \\\\\n\\textbf{Covariance Type:} &    nonrobust     & \\textbf{  LLR p-value:       } & 3.933e-14   \\\\\n\\bottomrule\n\\end{tabular}\n\\begin{tabular}{lcccccc}\n                & \\textbf{coef} & \\textbf{std err} & \\textbf{z} & \\textbf{P$> |$z$|$} & \\textbf{[0.025} & \\textbf{0.975]}  \\\\\n\\midrule\n\\textbf{const}  &      -0.4006  &        0.148     &    -2.707  &         0.007        &       -0.691    &       -0.111     \\\\\n\\textbf{T10Y3M} &      -0.7572  &        0.125     &    -6.058  &         0.000        &       -1.002    &       -0.512     \\\\\n\\bottomrule\n\\end{tabular}\n%\\caption{Probit Regression Results}\n\\end{center}"
     },
     "execution_count": 42,
     "metadata": {},
     "output_type": "execute_result"
    }
   ],
   "execution_count": 42
  },
  {
   "metadata": {},
   "cell_type": "markdown",
   "source": "9) Based on this model, predict the probability of a recession for each month in the entire dataset and plot that probability over time",
   "id": "b7525bf5c6472974"
  },
  {
   "metadata": {
    "ExecuteTime": {
     "end_time": "2025-10-22T16:35:42.524436Z",
     "start_time": "2025-10-22T16:35:42.113161Z"
    }
   },
   "cell_type": "code",
   "source": [
    "X_all = sm.add_constant(fed_rec['T10Y3M'])\n",
    "fed_rec['recession_prob'] = probit_model.predict(X_all)\n",
    "\n",
    "fig, ax = plt.subplots(figsize=(12, 4))\n",
    "ax.plot(fed_rec['month'], fed_rec['recession_prob'], label='Predicted probability')\n",
    "ax.fill_between(\n",
    "    fed_rec['month'],\n",
    "    0,\n",
    "    1,\n",
    "    where=fed_rec['USREC'] > 0.5,\n",
    "    color='red',\n",
    "    alpha=0.1,\n",
    "    label='Recession (current)'\n",
    ")\n",
    "ax.set_xlabel('Month')\n",
    "ax.set_ylabel('Probability of recession')\n",
    "ax.set_title('Predicted U.S. Recession Probability (12 Months Ahead)')\n",
    "ax.set_ylim(0, 1)\n",
    "ax.legend(loc='upper left')\n",
    "fig.tight_layout()\n"
   ],
   "id": "c4a6e611f0388fcd",
   "outputs": [
    {
     "data": {
      "text/plain": [
       "<Figure size 1200x400 with 1 Axes>"
      ],
      "image/png": "[encoded data removed]"
     },
     "metadata": {},
     "output_type": "display_data",
     "jetTransient": {
      "display_id": null
     }
    }
   ],
   "execution_count": 43
  }
 ],
 "metadata": {
  "kernelspec": {
   "display_name": "Python 3",
   "language": "python",
   "name": "python3"
  },
  "language_info": {
   "codemirror_mode": {
    "name": "ipython",
    "version": 2
   },
   "file_extension": ".py",
   "mimetype": "text/x-python",
   "name": "python",
   "nbconvert_exporter": "python",
   "pygments_lexer": "ipython2",
   "version": "2.7.6"
  }
 },
 "nbformat": 4,
 "nbformat_minor": 5
}
